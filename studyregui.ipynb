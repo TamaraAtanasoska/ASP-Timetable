{
 "cells": [
  {
   "cell_type": "code",
   "execution_count": 1,
   "metadata": {},
   "outputs": [],
   "source": [
    "from maincode import main"
   ]
  },
  {
   "cell_type": "code",
   "execution_count": 2,
   "metadata": {
    "tags": []
   },
   "outputs": [
    {
     "data": {
      "application/vnd.jupyter.widget-view+json": {
       "model_id": "6cc2e58e41d342bd9661dc3b7be2926d",
       "version_major": 2,
       "version_minor": 0
      },
      "text/plain": [
       "VBox(children=(VBox(children=(Label(value='Course'), Textarea(value='', description='Enter course:', placehold…"
      ]
     },
     "metadata": {},
     "output_type": "display_data"
    }
   ],
   "source": [
    "instance = main()\n",
    "display(instance.ui)"
   ]
  },
  {
   "cell_type": "code",
   "execution_count": 11,
   "metadata": {},
   "outputs": [
    {
     "name": "stdout",
     "output_type": "stream",
     "text": [
      "clingo version 5.5.0\n",
      "Reading from user_course.lp ...\n",
      "Solving...\n",
      "Answer: 1\n",
      "module(pm,ling,12,1,0,0) module(pm,ml,12,0,0,0) module(pm,ci,12,1,0,0) module(bm,ci,9,0,1,0) module(bm,ml,9,1,1,0) module(bm,ling,9,0,1,0) module(im,none,15,2,1,0) module(fm,ci,6,0,0,0) module(fm,ml,6,0,0,0) module(fm,ling,6,0,0,0) module(thesis,none,30,2,1,0)\n",
      "SATISFIABLE\n",
      "\n",
      "Models       : 1+\n",
      "Calls        : 1\n",
      "Time         : 0.009s (Solving: 0.00s 1st Model: 0.00s Unsat: 0.00s)\n",
      "CPU Time     : 0.009s\n"
     ]
    }
   ],
   "source": [
    "!clingo user_course.lp encoding.lp 1 -c s={instance.sem} "
   ]
  },
  {
   "cell_type": "code",
   "execution_count": 3,
   "metadata": {},
   "outputs": [],
   "source": [
    "%%capture output #we can capture output of a cell like this\n",
    "\n",
    "!clingo user_course.lp encoding.lp 1 -c s={instance.sem} "
   ]
  },
  {
   "cell_type": "code",
   "execution_count": 15,
   "metadata": {},
   "outputs": [
    {
     "data": {
      "text/plain": [
       "'clingo version 5.5.0 Reading from user_course.lp ... Solving... Answer: 1 module(pm,ling,12,1,0,0) module(pm,ml,12,0,0,0) module(pm,ci,12,1,0,0) module(bm,ci,9,0,1,0) module(bm,ml,9,1,1,0) module(bm,ling,9,0,1,0) module(im,none,15,2,1,0) module(fm,ci,6,0,0,0) module(fm,ml,6,0,0,0) module(fm,ling,6,0,0,0) module(thesis,none,30,2,1,0) SATISFIABLE  Models       : 1+ Calls        : 1 Time         : 0.009s (Solving: 0.00s 1st Model: 0.00s Unsat: 0.00s) CPU Time     : 0.007s '"
      ]
     },
     "execution_count": 15,
     "metadata": {},
     "output_type": "execute_result"
    }
   ],
   "source": [
    "output.stdout.replace(\"\\r\\n\", \" \") #the output can be in a string like this"
   ]
  },
  {
   "cell_type": "code",
   "execution_count": 27,
   "metadata": {},
   "outputs": [
    {
     "name": "stdout",
     "output_type": "stream",
     "text": [
      "clingo version 5.5.0\n",
      "Reading from user_course.lp ...\n",
      "Solving...\n",
      "Answer: 1\n",
      "module(pm,ling,12,1,0,0) module(pm,ml,12,0,0,0) module(pm,ci,12,1,0,0) module(bm,ci,9,0,1,0) module(bm,ml,9,1,1,0) module(bm,ling,9,0,1,0) module(im,none,15,2,1,0) module(fm,ci,6,0,0,0) module(fm,ml,6,0,0,0) module(fm,ling,6,0,0,0) module(thesis,none,30,2,1,0)\n",
      "SATISFIABLE\n",
      "\n",
      "Models       : 1+\n",
      "Calls        : 1\n",
      "Time         : 0.009s (Solving: 0.00s 1st Model: 0.00s Unsat: 0.00s)\n",
      "CPU Time     : 0.007s\n",
      "\n"
     ]
    },
    {
     "data": {
      "text/plain": [
       "'clingo version 5.5.0\\r\\nReading from user_course.lp ...\\r\\nSolving...\\r\\nAnswer: 1\\r\\nmodule(pm,ling,12,1,0,0) module(pm,ml,12,0,0,0) module(pm,ci,12,1,0,0) module(bm,ci,9,0,1,0) module(bm,ml,9,1,1,0) module(bm,ling,9,0,1,0) module(im,none,15,2,1,0) module(fm,ci,6,0,0,0) module(fm,ml,6,0,0,0) module(fm,ling,6,0,0,0) module(thesis,none,30,2,1,0)\\r\\nSATISFIABLE\\r\\n\\r\\nModels       : 1+\\r\\nCalls        : 1\\r\\nTime         : 0.009s (Solving: 0.00s 1st Model: 0.00s Unsat: 0.00s)\\r\\nCPU Time     : 0.007s\\r\\n'"
      ]
     },
     "execution_count": 27,
     "metadata": {},
     "output_type": "execute_result"
    }
   ],
   "source": [
    "print(output.stdout)\n",
    "\n",
    "s = output.stdout\n",
    "start = s.find('module:') \n",
    "end = s.find('\\n', start)\n",
    "s[start:end]\n",
    "\n",
    "output.stdout"
   ]
  },
  {
   "cell_type": "code",
   "execution_count": null,
   "metadata": {},
   "outputs": [],
   "source": []
  }
 ],
 "metadata": {
  "kernelspec": {
   "display_name": "Python 3",
   "language": "python",
   "name": "python3"
  },
  "language_info": {
   "codemirror_mode": {
    "name": "ipython",
    "version": 3
   },
   "file_extension": ".py",
   "mimetype": "text/x-python",
   "name": "python",
   "nbconvert_exporter": "python",
   "pygments_lexer": "ipython3",
   "version": "3.8.3"
  }
 },
 "nbformat": 4,
 "nbformat_minor": 5
}
