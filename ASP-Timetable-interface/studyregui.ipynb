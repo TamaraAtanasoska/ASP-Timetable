{
 "cells": [
  {
   "cell_type": "code",
   "execution_count": 1,
   "metadata": {},
   "outputs": [],
   "source": [
    "from maincode import main"
   ]
  },
  {
   "cell_type": "code",
   "execution_count": 2,
   "metadata": {
    "tags": []
   },
   "outputs": [
    {
     "data": {
      "application/vnd.jupyter.widget-view+json": {
       "model_id": "dd767cf9643f407eb5304c3b28b0f088",
       "version_major": 2,
       "version_minor": 0
      },
      "text/plain": [
       "VBox(children=(VBox(children=(Label(value='Course'), Textarea(value='', description='Enter course:', placehold…"
      ]
     },
     "metadata": {},
     "output_type": "display_data"
    }
   ],
   "source": [
    "instance = main()\n",
    "display(instance.ui)"
   ]
  },
  {
   "cell_type": "code",
   "execution_count": 91,
   "metadata": {},
   "outputs": [
    {
     "name": "stdout",
     "output_type": "stream",
     "text": [
      "clingo version 5.5.1\n",
      "Reading from user_course.lp ...\n",
      "Solving...\n",
      "Answer: 1\n",
      "module(pm1,ling,12,1,0,0) module(bm1,ling,9,0,1,0) module(bm2,ml,9,1,1,0) module(bm3,ci,9,0,1,0) module(am11,ling,6,2,0,0) module(am12,ling,6,2,0,0) module(am22,ml,6,2,0,0) module(am32,ci,6,2,0,0) one_pm bm_check fm_am_comb_check am_four am_fieldcheck\n",
      "SATISFIABLE\n",
      "\n",
      "Models       : 1\n",
      "Calls        : 1\n",
      "Time         : 0.016s (Solving: 0.00s 1st Model: 0.00s Unsat: 0.00s)\n",
      "CPU Time     : 0.016s\n"
     ]
    }
   ],
   "source": [
    "!clingo user_course.lp encoding.lp 1 -c s={instance.sem} "
   ]
  },
  {
   "cell_type": "code",
   "execution_count": 92,
   "metadata": {},
   "outputs": [],
   "source": [
    "%%capture output \n",
    "\n",
    "!clingo user_course.lp encoding.lp 1 -c s={instance.sem} \n",
    "\n"
   ]
  },
  {
   "cell_type": "code",
   "execution_count": 94,
   "metadata": {},
   "outputs": [
    {
     "name": "stdout",
     "output_type": "stream",
     "text": [
      "clingo version 5.5.1\n",
      "Reading from user_course.lp ...\n",
      "Solving...\n",
      "Answer: 1\n",
      "module(pm1,ling,12,1,0,0) module(bm1,ling,9,0,1,0) module(bm2,ml,9,1,1,0) module(bm3,ci,9,0,1,0) module(am11,ling,6,2,0,0) module(am12,ling,6,2,0,0) module(am22,ml,6,2,0,0) module(am32,ci,6,2,0,0) one_pm bm_check fm_am_comb_check am_four am_fieldcheck\n",
      "SATISFIABLE\n",
      "\n",
      "Models       : 1\n",
      "Calls        : 1\n",
      "Time         : 0.004s (Solving: 0.00s 1st Model: 0.00s Unsat: 0.00s)\n",
      "CPU Time     : 0.000s\n",
      "\n",
      "You need one more PM\n",
      "You didnt do your IM\n",
      "You have four ams\n",
      "You dont have enough credits to write your Bachelor Thesis\n"
     ]
    }
   ],
   "source": [
    "print(output)\n",
    "str_out=str(output)\n",
    "\n",
    "if \"two_pm\" in str_out and not \"pm_fieldcheck\" in str_out: \n",
    "    print('You dont have PMs from two different fields')\n",
    "\n",
    "if  \"one_pm\" in str_out: \n",
    "    print('You need one more PM')\n",
    "    \n",
    "if  \"toomany_pm\" in str_out: \n",
    "    print('You already have enough PM')\n",
    "    \n",
    "if not \"bm_check\" in str_out:\n",
    "    print(\"You didnt do all BM\")\n",
    "    \n",
    "if not \"im_check\" in str_out:\n",
    "    print(\"You didnt do your IM\")\n",
    "    \n",
    "if not \"fm_am_comb_check\" in str_out:\n",
    "    print(\"Your combination of FM and AM does not work out\")\n",
    "\n",
    "if \"am_one\" in str_out:\n",
    "    print(\"You have one am\")\n",
    "    \n",
    "if \"am_two\" in str_out:\n",
    "    print(\"You have two ams\")\n",
    "    \n",
    "if \"am_three\" in str_out:\n",
    "    print(\"You have three ams\")\n",
    "    \n",
    "if \"am_four\" in str_out:\n",
    "    print(\"You have four ams\")\n",
    " \n",
    "if \"am_to_many\" in str_out:\n",
    "    print(\"You have already enough ams\")\n",
    "    \n",
    "    \n",
    "if not \"am_fieldcheck\" in str_out:\n",
    "    print(\"Your AM field selection is not correct\")\n",
    "    \n",
    "    \n",
    "if  \"thesis_check\" in str_out:\n",
    "    print(\"Your course selection is valid you can write your thesis\")    \n",
    "\n",
    "if not \"thesis_check\" in str_out:\n",
    "    print(\"You dont have enough credits to write your Bachelor Thesis\")"
   ]
  },
  {
   "cell_type": "code",
   "execution_count": 72,
   "metadata": {},
   "outputs": [
    {
     "data": {
      "text/plain": [
       "'clingo version 5.5.1\\nReading from user_course.lp ...\\nSolving...\\nAnswer: 1\\nmodule(pm1,ling,12,1,0,0) module(pm2,ml,12,0,0,0) module(bm1,ling,9,0,1,0) module(bm2,ml,9,1,1,0) module(bm3,ci,9,0,1,0) module(im,none,15,2,1,0) module(am11,ling,6,2,0,0) module(am12,ling,6,2,0,0) module(am21,ml,6,2,0,0) module(am22,ml,6,2,0,0) module(am31,ci,6,2,0,0) two_pm pm_fieldcheck bm_check im_check am_to_many\\nSATISFIABLE\\n\\nModels       : 1\\nCalls        : 1\\nTime         : 0.003s (Solving: 0.00s 1st Model: 0.00s Unsat: 0.00s)\\nCPU Time     : 0.000s\\n'"
      ]
     },
     "execution_count": 72,
     "metadata": {},
     "output_type": "execute_result"
    }
   ],
   "source": [
    "output.stdout.replace(\"\\r\\n\", \" \") #the output can be in a string like this\n",
    "\n"
   ]
  },
  {
   "cell_type": "code",
   "execution_count": 6,
   "metadata": {},
   "outputs": [
    {
     "name": "stdout",
     "output_type": "stream",
     "text": [
      "clingo version 5.5.1\n",
      "Reading from user_course.lp ...\n",
      "Solving...\n",
      "Answer: 1\n",
      "module(pm1,ling,12,1,0,0) module(pm2,ml,12,0,0,0) two_pm pm_fieldcheck\n",
      "SATISFIABLE\n",
      "\n",
      "Models       : 1\n",
      "Calls        : 1\n",
      "Time         : 0.003s (Solving: 0.00s 1st Model: 0.00s Unsat: 0.00s)\n",
      "CPU Time     : 0.000s\n",
      "\n"
     ]
    }
   ],
   "source": [
    "#print(output.stdout)\n",
    "\n",
    "s = output.stdout\n",
    "start = s.find('module:') \n",
    "end = s.find('\\n', start)\n",
    "s[start:end]\n",
    "\n",
    "\n",
    "print(output.stdout)\n",
    "#output.stdout"
   ]
  },
  {
   "cell_type": "code",
   "execution_count": 7,
   "metadata": {},
   "outputs": [
    {
     "name": "stdout",
     "output_type": "stream",
     "text": [
      "clingo version 5.5.1\n",
      "Reading from user_course.lp ...\n",
      "Solving...\n",
      "Answer: 1\n",
      "module(pm1,ling,12,1,0,0) module(pm2,ml,12,0,0,0) two_pm pm_fieldcheck\n",
      "SATISFIABLE\n",
      "\n",
      "Models       : 1\n",
      "Calls        : 1\n",
      "Time         : 0.003s (Solving: 0.00s 1st Model: 0.00s Unsat: 0.00s)\n",
      "CPU Time     : 0.000s\n",
      "\n"
     ]
    }
   ],
   "source": [
    "print(output)"
   ]
  },
  {
   "cell_type": "code",
   "execution_count": null,
   "metadata": {},
   "outputs": [],
   "source": []
  }
 ],
 "metadata": {
  "kernelspec": {
   "display_name": "Python 3",
   "language": "python",
   "name": "python3"
  },
  "language_info": {
   "codemirror_mode": {
    "name": "ipython",
    "version": 3
   },
   "file_extension": ".py",
   "mimetype": "text/x-python",
   "name": "python",
   "nbconvert_exporter": "python",
   "pygments_lexer": "ipython3",
   "version": "3.8.3"
  }
 },
 "nbformat": 4,
 "nbformat_minor": 5
}
