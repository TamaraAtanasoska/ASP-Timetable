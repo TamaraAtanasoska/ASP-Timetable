{
 "cells": [
  {
   "cell_type": "code",
   "execution_count": 1,
   "metadata": {},
   "outputs": [],
   "source": [
    "from maincode import main"
   ]
  },
  {
   "cell_type": "code",
   "execution_count": 2,
   "metadata": {
    "tags": []
   },
   "outputs": [
    {
     "data": {
      "application/vnd.jupyter.widget-view+json": {
       "model_id": "dd767cf9643f407eb5304c3b28b0f088",
       "version_major": 2,
       "version_minor": 0
      },
      "text/plain": [
       "VBox(children=(VBox(children=(Label(value='Course'), Textarea(value='', description='Enter course:', placehold…"
      ]
     },
     "metadata": {},
     "output_type": "display_data"
    }
   ],
   "source": [
    "instance = main()\n",
    "display(instance.ui)"
   ]
  },
  {
   "cell_type": "code",
   "execution_count": 209,
   "metadata": {},
   "outputs": [
    {
     "name": "stdout",
     "output_type": "stream",
     "text": [
      "clingo version 5.5.1\n",
      "Reading from user_course.lp ...\n",
      "Solving..."
     ]
    },
    {
     "name": "stderr",
     "output_type": "stream",
     "text": [
      "encoding.lp:41:12-41: info: atom does not occur in any rule head:\n",
      "  needfm(fm1,ling,6,0,0,0)\n",
      "\n",
      "encoding.lp:41:42-69: info: atom does not occur in any rule head:\n",
      "  needfm(fm2,ml,6,0,0,0)\n",
      "\n",
      "encoding.lp:41:70-97: info: atom does not occur in any rule head:\n",
      "  needfm(fm3,ci,6,0,0,0)\n",
      "\n",
      "encoding.lp:42:12-41: info: atom does not occur in any rule head:\n",
      "  needfm(fm1,ling,6,0,0,0)\n",
      "\n",
      "encoding.lp:42:42-69: info: atom does not occur in any rule head:\n",
      "  needfm(fm2,ml,6,0,0,0)\n",
      "\n",
      "encoding.lp:42:71-98: info: atom does not occur in any rule head:\n",
      "  needfm(fm3,ci,6,0,0,0)\n",
      "\n",
      "encoding.lp:43:12-41: info: atom does not occur in any rule head:\n",
      "  needfm(fm1,ling,6,0,0,0)\n",
      "\n",
      "encoding.lp:43:42-69: info: atom does not occur in any rule head:\n",
      "  needfm(fm2,ml,6,0,0,0)\n",
      "\n",
      "encoding.lp:43:71-98: info: atom does not occur in any rule head:\n",
      "  needfm(fm3,ci,6,0,0,0)\n",
      "\n",
      "encoding.lp:44:12-41: info: atom does not occur in any rule head:\n",
      "  needfm(fm1,ling,6,0,0,0)\n",
      "\n",
      "encoding.lp:44:42-69: info: atom does not occur in any rule head:\n",
      "  needfm(fm2,ml,6,0,0,0)\n",
      "\n",
      "encoding.lp:44:71-98: info: atom does not occur in any rule head:\n",
      "  needfm(fm3,ci,6,0,0,0)\n",
      "\n"
     ]
    },
    {
     "name": "stdout",
     "output_type": "stream",
     "text": [
      "\n",
      "Answer: 1\n",
      "module(bm1,ling,9,0,1,0) module(bm2,ml,9,1,1,0) module(am11,ling,6,2,0,0) module(am12,ling,6,2,0,0) module(am21,ml,6,2,0,0) want_module(pm1,ling,12,1,0,0) want_module(bm3,ci,9,0,1,0) planned_pm(1) field_pm(1) need(0) fm(0) planned_am_fm(3) too_few_am_fm am(3) am_fieldcheck credits_have(36) credits_want(21) semester_all\n",
      "SATISFIABLE\n",
      "\n",
      "Models       : 1\n",
      "Calls        : 1\n",
      "Time         : 0.012s (Solving: 0.00s 1st Model: 0.00s Unsat: 0.00s)\n",
      "CPU Time     : 0.016s\n"
     ]
    }
   ],
   "source": [
    "!clingo user_course.lp encoding.lp 1 -c s={instance.sem} "
   ]
  },
  {
   "cell_type": "code",
   "execution_count": 210,
   "metadata": {},
   "outputs": [],
   "source": [
    "%%capture output \n",
    "\n",
    "!clingo user_course.lp encoding.lp 1 -c s={instance.sem} \n",
    "\n"
   ]
  },
  {
   "cell_type": "code",
   "execution_count": 211,
   "metadata": {},
   "outputs": [
    {
     "name": "stdout",
     "output_type": "stream",
     "text": [
      "Checking whole study plan\n",
      "You didnt do all BM\n",
      "You didnt do your IM\n",
      "You need to finish all your FMs\n",
      "You plan includes not enough AMs\n",
      "Number of fm you need to do: 0\n",
      "You did 3 Ams. You need to do 1 more AM\n",
      "You dont have enough credits to write your Thesis\n",
      "You have 36 credits. You need 54 credits more to write your thesis\n"
     ]
    }
   ],
   "source": [
    "str_out=str(output)\n",
    "\n",
    "if \"semester_all\" in str_out:\n",
    "    print(\"Checking whole study plan\")\n",
    "    if \"two_pm\" in str_out and not \"pm_fieldcheck\" in str_out: \n",
    "        print('You dont have PMs from two different fields')\n",
    "\n",
    "    if  \"one_pm\" in str_out: \n",
    "        print('You need one more PM')    \n",
    "\n",
    "    if not \"bm_check\" in str_out:\n",
    "        print(\"You didnt do all BM\")\n",
    "\n",
    "    if not \"im_check\" in str_out:\n",
    "        print(\"You didnt do your IM\")   \n",
    "        \n",
    "    if re.search(r\"need\\(([A-Za-z0-9_]+)\\)\", str_out) != re.search(r\"fm\\(([A-Za-z0-9_]+)\\)\", str_out):     \n",
    "        print(\"You need to finish all your FMs\")\n",
    "    \n",
    "    if \"too_much_am_fm\" in str_out:\n",
    "        print(\"You plan includes to many AMs\")\n",
    "        result = re.search(r\"need\\(([A-Za-z0-9_]+)\\)\", str_out)\n",
    "        print(\"Number of fm you need to do:\",result.group(1))\n",
    "        print(\"This leaves you with\",4-int(result.group(1)),\"AMs that you can choose\")\n",
    "\n",
    "    \n",
    "    if not \"fm_am_comb_check\" in str_out:\n",
    "        print(\"You plan includes not enough AMs\")\n",
    "        result = re.search(r\"need\\(([A-Za-z0-9_]+)\\)\", str_out)\n",
    "        print(\"Number of fm you need to do:\",result.group(1))\n",
    "        result1 = re.search(r\"am\\(([A-Za-z0-9_]+)\\)\", str_out)\n",
    "        print(\"You did\",result1.group(1),\"Ams. You need to do\",4-int(result.group(1))-int(result1.group(1)),\"more AM\")\n",
    "\n",
    "              \n",
    "    if  \"thesis_check\" in str_out:\n",
    "        print(\"Your course selection is valid you can write your thesis\")    \n",
    "\n",
    "    if not \"thesis_check\" in str_out:\n",
    "        print(\"You dont have enough credits to write your Thesis\")\n",
    "        result = re.search(r\"credits_have\\(([A-Za-z0-9_]+)\\)\", str_out)\n",
    "        print(\"You have\",result.group(1),\"credits. You need\",90-int(result.group(1)),\"credits more to write your thesis\")\n",
    "    \n",
    "\n",
    "\n",
    "\n",
    "\n",
    "else:\n",
    "    if \"toomuchcredits\" in str_out:\n",
    "        print(\"Youre selection includes more than 40 credits this might be a bad idea\")\n",
    "    \n",
    "    elif \"toofewcredits\" in str_out:\n",
    "        print(\"Youre selection includes less than 15 credits this might be a bad idea\")\n",
    "    \n",
    "    elif \"done_already\" in str_out:\n",
    "        result = re.search(r\"done_already\\(([A-Za-z0-9_]+)\\)\", str_out)\n",
    "        print(\"You have done the following course already:\",result.group(1),\"Please choose another one\")\n",
    "    \n",
    "    elif \"toomuchpm\" in str_out:\n",
    "        print(\"You plan to do too many PMs\")\n",
    "    \n",
    "    elif \"too_much_am_fm\" in str_out:\n",
    "        print(\"You plan includes to many AMs\")\n",
    "        result = re.search(r\"need\\(([A-Za-z0-9_]+)\\)\", str_out)\n",
    "        print(\"Number of fm you need to do:\",result.group(1))\n",
    "        print(\"This leaves you with\",4-int(result.group(1)),\"AMs that you can choose\")\n",
    "    else:\n",
    "        print(\"Your plan for this semester is valid\")"
   ]
  },
  {
   "cell_type": "code",
   "execution_count": null,
   "metadata": {},
   "outputs": [],
   "source": []
  },
  {
   "cell_type": "code",
   "execution_count": null,
   "metadata": {},
   "outputs": [],
   "source": []
  },
  {
   "cell_type": "code",
   "execution_count": 172,
   "metadata": {},
   "outputs": [
    {
     "name": "stdout",
     "output_type": "stream",
     "text": [
      "You didnt do all BM\n",
      "You didnt do your IM\n",
      "Your combination of FM and AM does not work out\n",
      "You have three ams\n",
      "You have zero fms\n",
      "You dont have enough credits to write your Thesis\n"
     ]
    }
   ],
   "source": [
    "#print(output)\n",
    "str_out=str(output)\n",
    "\n",
    "\n",
    "\n",
    "\n",
    "if \"two_pm\" in str_out and not \"pm_fieldcheck\" in str_out: \n",
    "    print('You dont have PMs from two different fields')\n",
    "\n",
    "if  \"one_pm\" in str_out: \n",
    "    print('You need one more PM')\n",
    "    \n",
    "if  \"toomany_pm\" in str_out: \n",
    "    print('You already have enough PM')\n",
    "    \n",
    "if not \"bm_check\" in str_out:\n",
    "    print(\"You didnt do all BM\")\n",
    "    \n",
    "if not \"im_check\" in str_out:\n",
    "    print(\"You didnt do your IM\")\n",
    "    \n",
    "if not \"fm_am_comb_check\" in str_out:\n",
    "    print(\"Your combination of FM and AM does not work out\")\n",
    "\n",
    "if \"am_one\" in str_out:\n",
    "    print(\"You have one am\")\n",
    "\n",
    "if \"am_two\" in str_out:\n",
    "    print(\"You have two ams\")\n",
    "    \n",
    "if \"am_three\" in str_out:\n",
    "    print(\"You have three ams\")\n",
    "    \n",
    "if \"am_four\" in str_out:\n",
    "    print(\"You have four ams\")\n",
    " \n",
    "if \"am_to_many\" in str_out:\n",
    "    print(\"You have already enough ams\")\n",
    "\n",
    "\n",
    "if \"need_zero\" in str_out:\n",
    "    print(\"You need zero fms\")\n",
    "    \n",
    "if \"need_one\" in str_out:\n",
    "    print(\"You need one fms\")\n",
    "\n",
    "if \"need_two\" in str_out:\n",
    "    print(\"You need two fms\")\n",
    "    \n",
    "if \"need_three\" in str_out:\n",
    "    print(\"You need three fms\")\n",
    "        \n",
    "    \n",
    "if \"fm_zero\" in str_out:\n",
    "    print(\"You have zero fms\")\n",
    "    \n",
    "if \"fm_one\" in str_out:\n",
    "    print(\"You have one fm\")\n",
    "\n",
    "if \"fm_two\" in str_out:\n",
    "    print(\"You have two fms\")\n",
    "    \n",
    "if \"fm_three\" in str_out:\n",
    "    print(\"You have three fms\")\n",
    "    \n",
    "    \n",
    "    \n",
    "if not \"am_fieldcheck\" in str_out:\n",
    "    print(\"Your AM field selection is not correct\")\n",
    "    \n",
    "    \n",
    "if  \"thesis_check\" in str_out:\n",
    "    print(\"Your course selection is valid you can write your thesis\")    \n",
    "\n",
    "if not \"thesis_check\" in str_out:\n",
    "    print(\"You dont have enough credits to write your Thesis\")\n",
    "    \n",
    "if \"toomuchcredits\" in str_out:\n",
    "    print(\"Youre selection includes more than 40 credits this might be a bad idea\")\n",
    "    \n",
    "if \"toofewcredits\" in str_out:\n",
    "    print(\"Youre selection includes less than 15 credits this might be a bad idea\")\n",
    "    \n",
    "if \"done_already\" in str_out:\n",
    "    result = re.search(r\"done_already\\(([A-Za-z0-9_]+)\\)\", str_out)\n",
    "    print(\"You have done the following course already:\",result.group(1),\"Please choose another one\")\n",
    "    \n",
    "if \"toomuchpm\" in str_out:\n",
    "    print(\"You plan to do too many PMs\")\n",
    "    \n",
    "if \"too_much_am_fm\" in str_out:\n",
    "    print(\"You plan includes to many AMs\")\n",
    "    result = re.search(r\"need\\(([A-Za-z0-9_]+)\\)\", str_out)\n",
    "    print(\"Number of fm you need to do:\",result.group(1))\n",
    "    print(\"This leaves you with\",4-int(result.group(1)),\"AMs that you can choose\")"
   ]
  },
  {
   "cell_type": "code",
   "execution_count": null,
   "metadata": {},
   "outputs": [],
   "source": []
  },
  {
   "cell_type": "code",
   "execution_count": null,
   "metadata": {},
   "outputs": [],
   "source": []
  },
  {
   "cell_type": "code",
   "execution_count": 122,
   "metadata": {},
   "outputs": [
    {
     "data": {
      "text/plain": [
       "'clingo version 5.5.1\\nReading from user_course.lp ...\\nSolving...\\nAnswer: 1\\nmodule(pm1,ling,12,1,0,0) module(pm2,ml,12,0,0,0) module(pm3,ci,12,1,0,0) module(bm1,ling,9,0,1,0) module(bm2,ml,9,1,1,0) module(bm3,ci,9,0,1,0) module(im,none,15,2,1,0) module(fm1,ling,6,0,0,0) module(am11,ling,6,2,0,0) module(am12,ling,6,2,0,0) module(am21,ml,6,2,0,0) toomany_pm pm_fieldcheck bm_check im_check fm_am_comb_check needfm(fm1,ling,6,0,0,0) need_one fm_one am_three am_fieldcheck credits_have(102) thesis_check want_module(pm1,ling,12,1,0,0) want_module(pm2,ml,12,0,0,0) want_module(pm3,ci,12,1,0,0) credits_want(36)\\nSATISFIABLE\\n\\nModels       : 1\\nCalls        : 1\\nTime         : 0.004s (Solving: 0.00s 1st Model: 0.00s Unsat: 0.00s)\\nCPU Time     : 0.000s\\n'"
      ]
     },
     "execution_count": 122,
     "metadata": {},
     "output_type": "execute_result"
    }
   ],
   "source": [
    "output.stdout.replace(\"\\r\\n\", \" \") #the output can be in a string like this\n",
    "\n"
   ]
  },
  {
   "cell_type": "code",
   "execution_count": 6,
   "metadata": {},
   "outputs": [
    {
     "name": "stdout",
     "output_type": "stream",
     "text": [
      "clingo version 5.5.1\n",
      "Reading from user_course.lp ...\n",
      "Solving...\n",
      "Answer: 1\n",
      "module(pm1,ling,12,1,0,0) module(pm2,ml,12,0,0,0) two_pm pm_fieldcheck\n",
      "SATISFIABLE\n",
      "\n",
      "Models       : 1\n",
      "Calls        : 1\n",
      "Time         : 0.003s (Solving: 0.00s 1st Model: 0.00s Unsat: 0.00s)\n",
      "CPU Time     : 0.000s\n",
      "\n"
     ]
    }
   ],
   "source": [
    "#print(output.stdout)\n",
    "\n",
    "s = output.stdout\n",
    "start = s.find('module:') \n",
    "end = s.find('\\n', start)\n",
    "s[start:end]\n",
    "\n",
    "\n",
    "print(output.stdout)\n",
    "#output.stdout"
   ]
  },
  {
   "cell_type": "code",
   "execution_count": 7,
   "metadata": {},
   "outputs": [
    {
     "name": "stdout",
     "output_type": "stream",
     "text": [
      "clingo version 5.5.1\n",
      "Reading from user_course.lp ...\n",
      "Solving...\n",
      "Answer: 1\n",
      "module(pm1,ling,12,1,0,0) module(pm2,ml,12,0,0,0) two_pm pm_fieldcheck\n",
      "SATISFIABLE\n",
      "\n",
      "Models       : 1\n",
      "Calls        : 1\n",
      "Time         : 0.003s (Solving: 0.00s 1st Model: 0.00s Unsat: 0.00s)\n",
      "CPU Time     : 0.000s\n",
      "\n"
     ]
    }
   ],
   "source": [
    "print(output)"
   ]
  },
  {
   "cell_type": "code",
   "execution_count": 136,
   "metadata": {},
   "outputs": [
    {
     "name": "stdout",
     "output_type": "stream",
     "text": [
      "(pm1)\n"
     ]
    }
   ],
   "source": [
    "import re\n",
    "\n",
    "s = \"donealready(pm1) im_check\"\n",
    "result = re.search('donealready(.*) ', s)\n",
    "print(result.group(1))"
   ]
  },
  {
   "cell_type": "code",
   "execution_count": null,
   "metadata": {},
   "outputs": [],
   "source": []
  }
 ],
 "metadata": {
  "kernelspec": {
   "display_name": "Python 3",
   "language": "python",
   "name": "python3"
  },
  "language_info": {
   "codemirror_mode": {
    "name": "ipython",
    "version": 3
   },
   "file_extension": ".py",
   "mimetype": "text/x-python",
   "name": "python",
   "nbconvert_exporter": "python",
   "pygments_lexer": "ipython3",
   "version": "3.8.3"
  }
 },
 "nbformat": 4,
 "nbformat_minor": 5
}
