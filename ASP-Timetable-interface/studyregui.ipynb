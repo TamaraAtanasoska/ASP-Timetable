{
 "cells": [
  {
   "cell_type": "code",
   "execution_count": 10,
   "metadata": {},
   "outputs": [],
   "source": [
    "from maincode import main"
   ]
  },
  {
   "cell_type": "code",
   "execution_count": 11,
   "metadata": {
    "tags": []
   },
   "outputs": [
    {
     "data": {
      "application/vnd.jupyter.widget-view+json": {
       "model_id": "a2d4fc7b10974df0b227d15e6622d809",
       "version_major": 2,
       "version_minor": 0
      },
      "text/plain": [
       "VBox(children=(VBox(children=(Label(value='Course'), Textarea(value='', description='Enter course:', placehold…"
      ]
     },
     "metadata": {},
     "output_type": "display_data"
    }
   ],
   "source": [
    "instance = main()\n",
    "display(instance.ui)"
   ]
  },
  {
   "cell_type": "code",
   "execution_count": 70,
   "metadata": {},
   "outputs": [
    {
     "name": "stdout",
     "output_type": "stream",
     "text": [
      "clingo version 5.5.1\n",
      "Reading from user_course.lp ...\n",
      "Solving...\n",
      "Answer: 1\n",
      "finished(pm1,ling,12,1,0,0) finished(bm1,ling,9,0,1,0) finished(bm2,ml,9,1,1,0) finished(bm3,ci,9,0,1,0) finished(fm,ling,6,0,0,0) finished(fm,ml,6,0,0,0) finished(fm,ci,6,0,0,0) finished(am11,ling,6,2,0,0) finished(am12,ling,6,2,0,0) want_module(fm,ci,6,0,0,0) want_module(fm2,ml,6,0,0,0) want_module(pm2,ml,12,0,0,0) want_module(im,none,15,2,1,0) planned_pm(2) twopm(2) planned_bm(3) planned_im(1) needfm(fm1,ling,6,0,0,0) needfm(fm2,ml,6,0,0,0) need(2) planned_fm(4) too_many_fm(4) planned_am_fm(5) too_much_am_fm(5) credits_want(39) credits_have(57) done_already(fm)\n",
      "SATISFIABLE\n",
      "\n",
      "Models       : 1\n",
      "Calls        : 1\n",
      "Time         : 0.062s (Solving: 0.00s 1st Model: 0.00s Unsat: 0.00s)\n",
      "CPU Time     : 0.031s\n"
     ]
    }
   ],
   "source": [
    "!clingo user_course.lp encoding.lp 1 -c s={instance.sem} "
   ]
  },
  {
   "cell_type": "code",
   "execution_count": 71,
   "metadata": {},
   "outputs": [],
   "source": [
    "%%capture output \n",
    "\n",
    "!clingo user_course.lp encoding.lp 1 -c s={instance.sem} \n",
    "\n"
   ]
  },
  {
   "cell_type": "code",
   "execution_count": 72,
   "metadata": {},
   "outputs": [
    {
     "name": "stdout",
     "output_type": "stream",
     "text": [
      "You have done the following course already: fm Please choose another one\n",
      "you have choosen FMs that you dont need to do. Please check again which FM are required for you\n",
      "You plan includes to many AMs\n",
      "Number of fm you need to do: 2 This leaves you with 2 AMs that you can choose\n",
      "You have choosen 5 AM\n",
      "You have 57 credits. You plan to do 39 credits in this semester\n",
      "You need 90 Credits before you can write your Thesis with your plan you need -6 Credits more\n"
     ]
    }
   ],
   "source": [
    "import re\n",
    "str_out=str(output)\n",
    "\n",
    "if \"semester_all\" in str_out:\n",
    "    print(\"Checking whole study plan\")\n",
    "    \n",
    "    if \"done_already\" in str_out:\n",
    "        result = re.search(r\"done_already\\(([A-Za-z0-9_]+)\\)\", str_out)\n",
    "        print(\"You have done the following course already:\",result.group(1),\"Please choose another one\")\n",
    "    \n",
    "#PM\n",
    "    if (\"twopm\" in str_out or \"toomuchpm\" in str_out) and \"field_pm(1)\" in str_out: \n",
    "        print('You dont have PMs from two different fields')\n",
    "\n",
    "    if  \"toofewpm\" in str_out: \n",
    "        result = re.search(r\"toofewpm\\(([A-Za-z0-9_]+)\\)\", str_out)\n",
    "        print(\"You need 2 PMs to finish your plan includes\",result.group(1),\"PMs\")\n",
    "    \n",
    "    if \"toomuchpm\" in str_out:\n",
    "        result = re.search(r\"too_many_pm\\(([A-Za-z0-9_]+)\\)\", str_out)\n",
    "        print(\"You plan to do\",result.group(1),\"PM you only need 2 PM\")\n",
    "    \n",
    "#BM       \n",
    "    if \"too_few_bm\" in str_out:\n",
    "        result = re.search(r\"too_few_bm\\(([A-Za-z0-9_]+)\\)\", str_out)\n",
    "        print(\"You need all 3 BM to finish. Your plan includes\",result.group(1),\"BM\")\n",
    "\n",
    "#IM        \n",
    "    if \"too_few_im\" in str_out:\n",
    "        print(\"You didnt do your IM\")\n",
    "        \n",
    "    if \"too_many_im\" in str_out:\n",
    "        result = re.search(r\"too_many_im\\(([A-Za-z0-9_]+)\\)\", str_out)\n",
    "        print(\"You plan to do\",result.group(1),\"IM you only need to one\")\n",
    "      \n",
    "#FM  \n",
    "\n",
    "    if \"too_few_fm\" in str_out:\n",
    "        result = re.search(r\"too_few_fm\\(([A-Za-z0-9_]+)\\)\", str_out)\n",
    "        result1 = re.search(r\"need\\(([A-Za-z0-9_]+)\\)\", str_out)\n",
    "        print(\"Your plan includes\",result.group(1),\"FM you neeed\",result1.group(1), \"FM to finish\")\n",
    "    \n",
    "    if \"too_many_fm\" in str_out:\n",
    "        print(\"you choose FMs that you dont need to do. Please check again which FM are required for you\")\n",
    "    \n",
    "    \n",
    "#AM    \n",
    "    if \"too_much_am_fm\" in str_out:\n",
    "        print(\"You plan includes to many AMs\")\n",
    "        result = re.search(r\"need\\(([A-Za-z0-9_]+)\\)\", str_out)\n",
    "        result1 = re.search(r\"too_much_am_fm\\(([A-Za-z0-9_]+)\\)\", str_out)\n",
    "        print(\"Number of fm you need to do:\",result.group(1),\"This leaves you with\",4-int(result.group(1)),\"AMs that you can choose\")\n",
    "        print(\"You have choosen\",result1.group(1),\"AM\")\n",
    "        \n",
    "    if \"too_few_am_fm\" in str_out:\n",
    "        print(\"You plan includes not enough AM\")\n",
    "        result = re.search(r\"need\\(([A-Za-z0-9_]+)\\)\", str_out)\n",
    "        result1 = re.search(r\"too_few_am_fm\\(([A-Za-z0-9_]+)\\)\", str_out)\n",
    "        print(\"Number of fm you need to do:\",result.group(1),\"This leaves you with\",4-int(result.group(1)),\"AMs that you can choose\")\n",
    "        print(\"You have choosen\",result1.group(1),\"AM\")\n",
    "\n",
    "#Thesis  \n",
    "    if  \"thesis_check\" in str_out:\n",
    "        print(\"Your plan gets you enough credits to write your thesis\")    \n",
    "\n",
    "    if not \"thesis_check\" in str_out:\n",
    "        print(\"You dont have enough credits to write your Thesis\")\n",
    "        result = re.search(r\"credits_have\\(([A-Za-z0-9_]+)\\)\", str_out)\n",
    "        result1 = re.search(r\"credits_want\\(([A-Za-z0-9_]+)\\)\", str_out)\n",
    "        print(\"You have\",result.group(1),\"credits. You plan to do\",result1.group(1),\" You need\",90-int(result.group(1))-int(result1.group(1)),\"credits more to write your thesis\")\n",
    "    \n",
    "\n",
    "\n",
    "\n",
    "\n",
    "else:\n",
    "    if \"toomuchcredits\" in str_out:\n",
    "        print(\"Youre selection includes more than 40 credits this might be a bad idea\")\n",
    "    \n",
    "    if \"toofewcredits\" in str_out:\n",
    "        print(\"Youre selection includes less than 15 credits this might be a bad idea\")\n",
    "    \n",
    "    if \"done_already\" in str_out:\n",
    "        result = re.search(r\"done_already\\(([A-Za-z0-9_]+)\\)\", str_out)\n",
    "        print(\"You have done the following course already:\",result.group(1),\"Please choose another one\")\n",
    "    \n",
    "    if \"toomuchpm\" in str_out:\n",
    "        print(\"You plan to do too many PMs\")\n",
    "        \n",
    "    if (\"twopm\" in str_out or \"toomuchpm\" in str_out) and \"field_pm(1)\" in str_out: \n",
    "        print('You dont have PMs from two different fields')\n",
    "        \n",
    "    if \"too_many_im\" in str_out:\n",
    "        result = re.search(r\"too_many_im\\(([A-Za-z0-9_]+)\\)\", str_out)\n",
    "        print(\"You plan to do\",result.group(1),\"IM you only need to one\")\n",
    "        \n",
    "    if \"too_many_fm\" in str_out:\n",
    "        print(\"you have choosen FMs that you dont need to do. Please check again which FM are required for you\")\n",
    "    \n",
    "    \n",
    "    if \"too_much_am_fm\" in str_out:\n",
    "        print(\"You plan includes to many AMs\")\n",
    "        result = re.search(r\"need\\(([A-Za-z0-9_]+)\\)\", str_out)\n",
    "        result1 = re.search(r\"too_much_am_fm\\(([A-Za-z0-9_]+)\\)\", str_out)\n",
    "        print(\"Number of fm you need to do:\",result.group(1),\"This leaves you with\",4-int(result.group(1)),\"AMs that you can choose\")\n",
    "        print(\"You have choosen\",result1.group(1),\"AM\")\n",
    "     \n",
    "    \n",
    "    if \"credits_want\" in str_out:\n",
    "        result = re.search(r\"credits_have\\(([A-Za-z0-9_]+)\\)\", str_out)\n",
    "        result1 = re.search(r\"credits_want\\(([A-Za-z0-9_]+)\\)\", str_out)\n",
    "        print(\"You have\",result.group(1),\"credits. You plan to do\",result1.group(1),\"credits in this semester\")\n",
    "        print(\"You need 90 Credits before you can write your Thesis with your plan you need\",90-int(result.group(1))-int(result1.group(1)),\"Credits more\")\n",
    "    #else:\n",
    "    #    print(\"Your plan for this semester is valid\")"
   ]
  },
  {
   "cell_type": "code",
   "execution_count": null,
   "metadata": {},
   "outputs": [],
   "source": []
  },
  {
   "cell_type": "code",
   "execution_count": null,
   "metadata": {},
   "outputs": [],
   "source": []
  },
  {
   "cell_type": "code",
   "execution_count": null,
   "metadata": {},
   "outputs": [],
   "source": [
    "#print(output)\n",
    "str_out=str(output)\n",
    "\n",
    "\n",
    "\n",
    "\n",
    "if \"two_pm\" in str_out and not \"pm_fieldcheck\" in str_out: \n",
    "    print('You dont have PMs from two different fields')\n",
    "\n",
    "if  \"one_pm\" in str_out: \n",
    "    print('You need one more PM')\n",
    "    \n",
    "if  \"toomany_pm\" in str_out: \n",
    "    print('You already have enough PM')\n",
    "    \n",
    "if not \"bm_check\" in str_out:\n",
    "    print(\"You didnt do all BM\")\n",
    "    \n",
    "if not \"im_check\" in str_out:\n",
    "    print(\"You didnt do your IM\")\n",
    "    \n",
    "if not \"fm_am_comb_check\" in str_out:\n",
    "    print(\"Your combination of FM and AM does not work out\")\n",
    "\n",
    "if \"am_one\" in str_out:\n",
    "    print(\"You have one am\")\n",
    "\n",
    "if \"am_two\" in str_out:\n",
    "    print(\"You have two ams\")\n",
    "    \n",
    "if \"am_three\" in str_out:\n",
    "    print(\"You have three ams\")\n",
    "    \n",
    "if \"am_four\" in str_out:\n",
    "    print(\"You have four ams\")\n",
    " \n",
    "if \"am_to_many\" in str_out:\n",
    "    print(\"You have already enough ams\")\n",
    "\n",
    "\n",
    "if \"need_zero\" in str_out:\n",
    "    print(\"You need zero fms\")\n",
    "    \n",
    "if \"need_one\" in str_out:\n",
    "    print(\"You need one fms\")\n",
    "\n",
    "if \"need_two\" in str_out:\n",
    "    print(\"You need two fms\")\n",
    "    \n",
    "if \"need_three\" in str_out:\n",
    "    print(\"You need three fms\")\n",
    "        \n",
    "    \n",
    "if \"fm_zero\" in str_out:\n",
    "    print(\"You have zero fms\")\n",
    "    \n",
    "if \"fm_one\" in str_out:\n",
    "    print(\"You have one fm\")\n",
    "\n",
    "if \"fm_two\" in str_out:\n",
    "    print(\"You have two fms\")\n",
    "    \n",
    "if \"fm_three\" in str_out:\n",
    "    print(\"You have three fms\")\n",
    "    \n",
    "    \n",
    "    \n",
    "if not \"am_fieldcheck\" in str_out:\n",
    "    print(\"Your AM field selection is not correct\")\n",
    "    \n",
    "    \n",
    "if  \"thesis_check\" in str_out:\n",
    "    print(\"Your course selection is valid you can write your thesis\")    \n",
    "\n",
    "if not \"thesis_check\" in str_out:\n",
    "    print(\"You dont have enough credits to write your Thesis\")\n",
    "    \n",
    "if \"toomuchcredits\" in str_out:\n",
    "    print(\"Youre selection includes more than 40 credits this might be a bad idea\")\n",
    "    \n",
    "if \"toofewcredits\" in str_out:\n",
    "    print(\"Youre selection includes less than 15 credits this might be a bad idea\")\n",
    "    \n",
    "if \"done_already\" in str_out:\n",
    "    result = re.search(r\"done_already\\(([A-Za-z0-9_]+)\\)\", str_out)\n",
    "    print(\"You have done the following course already:\",result.group(1),\"Please choose another one\")\n",
    "    \n",
    "if \"toomuchpm\" in str_out:\n",
    "    print(\"You plan to do too many PMs\")\n",
    "    \n",
    "if \"too_much_am_fm\" in str_out:\n",
    "    print(\"You plan includes to many AMs\")\n",
    "    result = re.search(r\"need\\(([A-Za-z0-9_]+)\\)\", str_out)\n",
    "    print(\"Number of fm you need to do:\",result.group(1))\n",
    "    print(\"This leaves you with\",4-int(result.group(1)),\"AMs that you can choose\")"
   ]
  },
  {
   "cell_type": "code",
   "execution_count": null,
   "metadata": {},
   "outputs": [],
   "source": []
  },
  {
   "cell_type": "code",
   "execution_count": null,
   "metadata": {},
   "outputs": [],
   "source": []
  },
  {
   "cell_type": "code",
   "execution_count": null,
   "metadata": {},
   "outputs": [],
   "source": [
    "output.stdout.replace(\"\\r\\n\", \" \") #the output can be in a string like this\n",
    "\n"
   ]
  },
  {
   "cell_type": "code",
   "execution_count": null,
   "metadata": {},
   "outputs": [],
   "source": [
    "#print(output.stdout)\n",
    "\n",
    "s = output.stdout\n",
    "start = s.find('module:') \n",
    "end = s.find('\\n', start)\n",
    "s[start:end]\n",
    "\n",
    "\n",
    "print(output.stdout)\n",
    "#output.stdout"
   ]
  },
  {
   "cell_type": "code",
   "execution_count": null,
   "metadata": {},
   "outputs": [],
   "source": [
    "print(output)"
   ]
  },
  {
   "cell_type": "code",
   "execution_count": null,
   "metadata": {},
   "outputs": [],
   "source": [
    "import re\n",
    "\n",
    "s = \"donealready(pm1) im_check\"\n",
    "result = re.search('donealready(.*) ', s)\n",
    "print(result.group(1))"
   ]
  },
  {
   "cell_type": "code",
   "execution_count": 8,
   "metadata": {},
   "outputs": [],
   "source": [
    "tes=[\"c\"]\n",
    "\n",
    "\n",
    "if (\"a\" in tes or \"b\" in tes) and \"c\" in tes:\n",
    "    print(\"yes\")"
   ]
  },
  {
   "cell_type": "code",
   "execution_count": null,
   "metadata": {},
   "outputs": [],
   "source": []
  }
 ],
 "metadata": {
  "kernelspec": {
   "display_name": "Python 3",
   "language": "python",
   "name": "python3"
  },
  "language_info": {
   "codemirror_mode": {
    "name": "ipython",
    "version": 3
   },
   "file_extension": ".py",
   "mimetype": "text/x-python",
   "name": "python",
   "nbconvert_exporter": "python",
   "pygments_lexer": "ipython3",
   "version": "3.8.3"
  }
 },
 "nbformat": 4,
 "nbformat_minor": 5
}
